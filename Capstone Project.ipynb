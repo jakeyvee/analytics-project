{
 "cells": [
  {
   "cell_type": "markdown",
   "metadata": {
    "id": "lQA1nAJj5myZ"
   },
   "source": [
    "<img src=\"https://uploads-ssl.webflow.com/628b99344f25667e77da83cf/62c3a95fc598e35cf796a1f2_Asset%209%403x-p-500.png\" alt=\"drawing\" width=\"400\"/>"
   ]
  },
  {
   "cell_type": "markdown",
   "metadata": {
    "id": "Mxdhde2x5myb"
   },
   "source": [
    "<center><strong><span style = \"font-size:30px\"> Capstone Project</span></strong></center>\n",
    "<br></br>\n",
    "\n",
    "---"
   ]
  },
  {
   "cell_type": "markdown",
   "metadata": {
    "id": "OOrV9YAF5myb"
   },
   "source": [
    "### Background\n"
   ]
  },
  {
   "cell_type": "markdown",
   "metadata": {
    "id": "hYvvL_tQ5myb"
   },
   "source": [
    "Who would have imagined in the year 2020, our crowded streets, malls and airport would be empty, and people would walk around with masks? \n",
    "\n",
    "The COVID-19 pandemic has brought about unprecedented challenges for society and people. The threat of the virus and increasing casualties among nations are destablising our communities. Undoubtedly, the tragedy of the COVID-19 pandemic is having a profound effect on the lives of people around the world.\n",
    "\n",
    "With the decline in offline purchases, consumers have been going to alternative avenues to satisfy the shopping cravings. The company you're working for - MetaPay, is in a favourable position as it sees a large increase in online transactions among its e-commerce merchants.\n",
    "\n",
    "Being a data analyst from MetaPay, you are tasked to analyse the customer's satisfaction by analyzing the datasets consisting of rich information such as orders, payments, delivery dates, and review scores. Submit a report to the Customer Success department next week on what categories should your company focus in and what are the factors causing customers' dissatisfaction. In your report, you could also indicate or suggest on how MetaPay could advise merchants on how to better satisfy their customers."
   ]
  },
  {
   "cell_type": "markdown",
   "metadata": {
    "id": "xWQvEQ0Q5myc"
   },
   "source": [
    "### Instructions\n",
    "\n",
    "To obtain a passing grade you MUST at least meet the following requirements:\n",
    "- Pandas\n",
    "    - Read Pandas dataframe\n",
    "    - Preliminary analysis using head(), describe(), info()\n",
    "    - Check for rows with null values, impute if present\n",
    "    - 3 Groupby statistics\n",
    "- Matplotlib\n",
    "    - 2 plots\n",
    "    - Define legend, color, axis, size\n",
    "- Seaborn\n",
    "    - 1 plot\n",
    "    - Despine and beautify"
   ]
  },
  {
   "cell_type": "markdown",
   "metadata": {
    "id": "kvK6Ivbk5myc"
   },
   "source": [
    "### Import library and read data"
   ]
  },
  {
   "cell_type": "code",
   "execution_count": null,
   "metadata": {
    "ExecuteTime": {
     "end_time": "2022-08-17T09:18:07.639849Z",
     "start_time": "2022-08-17T09:18:02.092164Z"
    },
    "id": "Xx91gn8-5myd"
   },
   "outputs": [],
   "source": [
    "import pandas as pd\n",
    "import numpy as np\n",
    "import matplotlib.pyplot as plt\n",
    "import seaborn as sns"
   ]
  },
  {
   "cell_type": "code",
   "execution_count": null,
   "metadata": {
    "ExecuteTime": {
     "end_time": "2022-08-17T09:18:27.690912Z",
     "start_time": "2022-08-17T09:18:27.253140Z"
    },
    "id": "2zxQwQPO5myd"
   },
   "outputs": [],
   "source": [
    "orders_df = pd.read_csv('../datasets/ecommerce_orders.csv')"
   ]
  },
  {
   "cell_type": "markdown",
   "metadata": {
    "id": "b5AMi_KR5myd"
   },
   "source": [
    "### Code below"
   ]
  },
  {
   "cell_type": "code",
   "execution_count": null,
   "metadata": {},
   "outputs": [],
   "source": []
  }
 ],
 "metadata": {
  "colab": {
   "collapsed_sections": [],
   "name": "Capstone Project.ipynb",
   "provenance": []
  },
  "kernelspec": {
   "display_name": "Python 3 (ipykernel)",
   "language": "python",
   "name": "python3"
  },
  "language_info": {
   "codemirror_mode": {
    "name": "ipython",
    "version": 3
   },
   "file_extension": ".py",
   "mimetype": "text/x-python",
   "name": "python",
   "nbconvert_exporter": "python",
   "pygments_lexer": "ipython3",
   "version": "3.10.8"
  },
  "toc": {
   "base_numbering": 1,
   "nav_menu": {},
   "number_sections": true,
   "sideBar": true,
   "skip_h1_title": false,
   "title_cell": "Table of Contents",
   "title_sidebar": "Contents",
   "toc_cell": false,
   "toc_position": {},
   "toc_section_display": true,
   "toc_window_display": false
  },
  "varInspector": {
   "cols": {
    "lenName": 16,
    "lenType": 16,
    "lenVar": 40
   },
   "kernels_config": {
    "python": {
     "delete_cmd_postfix": "",
     "delete_cmd_prefix": "del ",
     "library": "var_list.py",
     "varRefreshCmd": "print(var_dic_list())"
    },
    "r": {
     "delete_cmd_postfix": ") ",
     "delete_cmd_prefix": "rm(",
     "library": "var_list.r",
     "varRefreshCmd": "cat(var_dic_list()) "
    }
   },
   "types_to_exclude": [
    "module",
    "function",
    "builtin_function_or_method",
    "instance",
    "_Feature"
   ],
   "window_display": false
  }
 },
 "nbformat": 4,
 "nbformat_minor": 1
}
